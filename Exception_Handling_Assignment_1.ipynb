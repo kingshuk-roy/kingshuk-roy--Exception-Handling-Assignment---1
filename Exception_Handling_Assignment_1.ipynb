{
  "nbformat": 4,
  "nbformat_minor": 0,
  "metadata": {
    "colab": {
      "provenance": []
    },
    "kernelspec": {
      "name": "python3",
      "display_name": "Python 3"
    },
    "language_info": {
      "name": "python"
    }
  },
  "cells": [
    {
      "cell_type": "code",
      "execution_count": 21,
      "metadata": {
        "colab": {
          "base_uri": "https://localhost:8080/",
          "height": 140
        },
        "id": "52akuwiI2_Pl",
        "outputId": "9b37f6e3-4cfa-4a77-f075-302f41c90683"
      },
      "outputs": [
        {
          "output_type": "execute_result",
          "data": {
            "text/plain": [
              "\"\\nHere are some key differences between exceptions and syntax errors:\\n\\n1. Occurrence: Exceptions occur during the execution of a program when a specific condition arises, while syntax errors are detected by the interpreter before the program starts running.\\n2. Handling: Exceptions can be caught and handled using try-except blocks, allowing the program to recover gracefully from errors. Syntax errors must be fixed in the code before the program can be executed.\\n3. Program termination: Exceptions do not necessarily terminate the program immediately. If unhandled, they will cause the program to terminate, but by using exception handling, you can control the program's response. Syntax errors, however, prevent the program from running altogether until they are fixed.\\n4. Nature: Exceptions are runtime errors that occur when the program is executing, while syntax errors are static errors that occur during the parsing phase before the program starts executing.\\n\\nIn summary, exceptions are runtime errors that can be caught and handled, while syntax errors are static errors that need to be fixed before running the program. Exceptions provide a mechanism to deal with unexpected situations during program execution, enhancing the program's robustness and error handling capabilities.\""
            ],
            "application/vnd.google.colaboratory.intrinsic+json": {
              "type": "string"
            }
          },
          "metadata": {},
          "execution_count": 21
        }
      ],
      "source": [
        "# Q1. What is an Exepction in python? Write the difference between Exceptions and Syntax errors.\n",
        "\n",
        "'''\n",
        "In Python, an exception is an event that occurs during the execution of a program and disrupts the normal flow of its instructions.\n",
        "When an exceptional situation arises, Python raises an exception, which can be caught and handled by the program.\n",
        "Exceptions provide a way to handle errors and exceptional cases in a controlled manner, preventing the program from crashing or producing incorrect results.'''\n",
        "\n",
        "'''\n",
        "Here are some key differences between exceptions and syntax errors:\n",
        "\n",
        "1. Occurrence: Exceptions occur during the execution of a program when a specific condition arises, while syntax errors are detected by the interpreter before the program starts running.\n",
        "2. Handling: Exceptions can be caught and handled using try-except blocks, allowing the program to recover gracefully from errors. Syntax errors must be fixed in the code before the program can be executed.\n",
        "3. Program termination: Exceptions do not necessarily terminate the program immediately. If unhandled, they will cause the program to terminate, but by using exception handling, you can control the program's response. Syntax errors, however, prevent the program from running altogether until they are fixed.\n",
        "4. Nature: Exceptions are runtime errors that occur when the program is executing, while syntax errors are static errors that occur during the parsing phase before the program starts executing.\n",
        "\n",
        "In summary, exceptions are runtime errors that can be caught and handled, while syntax errors are static errors that need to be fixed before running the program. Exceptions provide a mechanism to deal with unexpected situations during program execution, enhancing the program's robustness and error handling capabilities.'''\n"
      ]
    },
    {
      "cell_type": "code",
      "source": [
        "# Q2. What happens when an exception is not handled? Explain with an example.\n",
        "\n",
        "'''\n",
        "When an exception is not handled, it propagates up through the call stack until it reaches the top-level of the program.\n",
        "If the exception reaches the top level without being caught and handled, it results in the program terminating and an error message being displayed to the user.'''\n",
        "\n",
        "#  Example:\n",
        "a=int(input(\"enter the number\"))\n",
        "try:\n",
        "  result=a/0\n",
        "  print(result)\n",
        "# except ZeroDivisionError as e:      (so here I skip the handeling part so, if we skip this 'Except_block' part a error message shown and programme can not run)\n",
        "#   print(e)\n",
        "\n"
      ],
      "metadata": {
        "colab": {
          "base_uri": "https://localhost:8080/",
          "height": 130
        },
        "id": "l-btdgbJ6gUL",
        "outputId": "3760aa9d-631f-4c60-8610-e296b6cff819"
      },
      "execution_count": 22,
      "outputs": [
        {
          "output_type": "error",
          "ename": "SyntaxError",
          "evalue": "ignored",
          "traceback": [
            "\u001b[0;36m  File \u001b[0;32m\"<ipython-input-22-f9d82bf6b286>\"\u001b[0;36m, line \u001b[0;32m14\u001b[0m\n\u001b[0;31m    \u001b[0m\n\u001b[0m    ^\u001b[0m\n\u001b[0;31mSyntaxError\u001b[0m\u001b[0;31m:\u001b[0m incomplete input\n"
          ]
        }
      ]
    },
    {
      "cell_type": "code",
      "source": [
        "# Q3. Which Python satatements are used to catch and handle exceptions? Explain with an example.\n",
        "\n",
        "'''\n",
        "The try and except block in Python is used to catch and handle exceptions. Python executes code following the try statement as a “normal” part of the program.\n",
        "The code that follows the except statement is the program's response to any exceptions in the preceding try clause.'''\n",
        "\n",
        "#  Example:\n",
        "try:\n",
        "  a=\"pwskills\"\n",
        "  b=5\n",
        "  result=(a+b)\n",
        "  print(result)\n",
        "except Exception as e:\n",
        "  print(e)"
      ],
      "metadata": {
        "colab": {
          "base_uri": "https://localhost:8080/"
        },
        "id": "GlEK1w810FTb",
        "outputId": "7a663335-175f-42ee-dea0-8783ded73997"
      },
      "execution_count": 24,
      "outputs": [
        {
          "output_type": "stream",
          "name": "stdout",
          "text": [
            "can only concatenate str (not \"int\") to str\n"
          ]
        }
      ]
    },
    {
      "cell_type": "code",
      "source": [
        "# Q4. Explain with an example:\n",
        "# a.try and else\n",
        "# b.finally\n",
        "# c.raise\n",
        "\n",
        "# a.try and else:\n",
        "\n",
        "try:                     #try_block\n",
        "  a=int(input(\"Enter yoer number:\"))\n",
        "  b=int(input(\"Enter yoer number:\"))\n",
        "except Exception as e:   #except_block\n",
        "  print(e)\n",
        "else:                    #else_block\n",
        "  print(a**b)            # if the \"try_block\" is successfully executed, only then \"else_block\" is executed.\n",
        "\n",
        "\n"
      ],
      "metadata": {
        "colab": {
          "base_uri": "https://localhost:8080/"
        },
        "id": "SYBAR5Ml4Hq2",
        "outputId": "37854762-c882-4806-a970-50df55f35082"
      },
      "execution_count": 25,
      "outputs": [
        {
          "output_type": "stream",
          "name": "stdout",
          "text": [
            "Enter yoer number:2\n",
            "Enter yoer number:4\n",
            "16\n"
          ]
        }
      ]
    },
    {
      "cell_type": "code",
      "source": [
        "# b.finally:\n",
        "\n",
        "try:                                      #try_block\n",
        "  f= open(\"mojo.txt\",\"r\")\n",
        "  f.write(\"this is my unique file\")\n",
        "\n",
        "except FileNotFoundError as e:            #Except_block\n",
        "  print(\"this is my except block \",e)\n",
        "\n",
        "finally:                                  #finaly_block        ** (finally will execute at any point of a situation)**\n",
        "  print(\"this is my finally_block\")\n"
      ],
      "metadata": {
        "colab": {
          "base_uri": "https://localhost:8080/"
        },
        "id": "JxBk5ZlC6xe2",
        "outputId": "812a405a-5ab2-4af6-a9a7-89a941f6285f"
      },
      "execution_count": 26,
      "outputs": [
        {
          "output_type": "stream",
          "name": "stdout",
          "text": [
            "this is my except block  [Errno 2] No such file or directory: 'mojo.txt'\n",
            "this is my finally_block\n"
          ]
        }
      ]
    },
    {
      "cell_type": "code",
      "source": [
        "# c.raise\n",
        "\n",
        "def calculate_square_root(n):\n",
        "    if n < 0:\n",
        "        raise ValueError(\"Input must be a positive integer.\")\n",
        "    # Perform the square root calculation\n",
        "\n",
        "calculate_square_root(-5)     # Raises a ValueError with the specified message\n"
      ],
      "metadata": {
        "colab": {
          "base_uri": "https://localhost:8080/",
          "height": 321
        },
        "id": "UJdIPdK58uqe",
        "outputId": "16b771b1-ce54-4e0c-807b-8ec7d8d07b46"
      },
      "execution_count": 27,
      "outputs": [
        {
          "output_type": "error",
          "ename": "ValueError",
          "evalue": "ignored",
          "traceback": [
            "\u001b[0;31m---------------------------------------------------------------------------\u001b[0m",
            "\u001b[0;31mValueError\u001b[0m                                Traceback (most recent call last)",
            "\u001b[0;32m<ipython-input-27-cdf6a73a2d2d>\u001b[0m in \u001b[0;36m<cell line: 8>\u001b[0;34m()\u001b[0m\n\u001b[1;32m      6\u001b[0m     \u001b[0;31m# Perform the square root calculation\u001b[0m\u001b[0;34m\u001b[0m\u001b[0;34m\u001b[0m\u001b[0m\n\u001b[1;32m      7\u001b[0m \u001b[0;34m\u001b[0m\u001b[0m\n\u001b[0;32m----> 8\u001b[0;31m \u001b[0mcalculate_square_root\u001b[0m\u001b[0;34m(\u001b[0m\u001b[0;34m-\u001b[0m\u001b[0;36m5\u001b[0m\u001b[0;34m)\u001b[0m     \u001b[0;31m# Raises a ValueError with the specified message\u001b[0m\u001b[0;34m\u001b[0m\u001b[0;34m\u001b[0m\u001b[0m\n\u001b[0m",
            "\u001b[0;32m<ipython-input-27-cdf6a73a2d2d>\u001b[0m in \u001b[0;36mcalculate_square_root\u001b[0;34m(n)\u001b[0m\n\u001b[1;32m      3\u001b[0m \u001b[0;32mdef\u001b[0m \u001b[0mcalculate_square_root\u001b[0m\u001b[0;34m(\u001b[0m\u001b[0mn\u001b[0m\u001b[0;34m)\u001b[0m\u001b[0;34m:\u001b[0m\u001b[0;34m\u001b[0m\u001b[0;34m\u001b[0m\u001b[0m\n\u001b[1;32m      4\u001b[0m     \u001b[0;32mif\u001b[0m \u001b[0mn\u001b[0m \u001b[0;34m<\u001b[0m \u001b[0;36m0\u001b[0m\u001b[0;34m:\u001b[0m\u001b[0;34m\u001b[0m\u001b[0;34m\u001b[0m\u001b[0m\n\u001b[0;32m----> 5\u001b[0;31m         \u001b[0;32mraise\u001b[0m \u001b[0mValueError\u001b[0m\u001b[0;34m(\u001b[0m\u001b[0;34m\"Input must be a positive integer.\"\u001b[0m\u001b[0;34m)\u001b[0m\u001b[0;34m\u001b[0m\u001b[0;34m\u001b[0m\u001b[0m\n\u001b[0m\u001b[1;32m      6\u001b[0m     \u001b[0;31m# Perform the square root calculation\u001b[0m\u001b[0;34m\u001b[0m\u001b[0;34m\u001b[0m\u001b[0m\n\u001b[1;32m      7\u001b[0m \u001b[0;34m\u001b[0m\u001b[0m\n",
            "\u001b[0;31mValueError\u001b[0m: Input must be a positive integer."
          ]
        }
      ]
    },
    {
      "cell_type": "code",
      "source": [
        "# Q5. What are Custom Exceptions in Python? Why do we need custom Exceptions? Explain with an example.\n",
        "\n",
        "'''\n",
        "User-Defined Exception in Python:\n",
        "Exceptions need to be derived from the Exception class, either directly or indirectly. Although not mandatory,\n",
        "most of the exceptions are named as names that end in “Error” similar to the naming of the standard exceptions in python. '''\n",
        "\n",
        "'''\n",
        "custom exceptions in Python offer a way to handle specific errors, provide clearer error messages, enhance code organization and readability, support domain-specific error handling, promote code reuse and modularity, and allow customization of exception behavior.\n",
        "They contribute to writing more robust and maintainable code.'''\n",
        "\n",
        "\n",
        "# A python program to create user-defined exception\n",
        "# class MyError is derived from super class Exception\n",
        "class MyError(Exception):\n",
        "\n",
        "    # Constructor or Initializer\n",
        "    def __init__(self, value):\n",
        "        self.value = value\n",
        "\n",
        "    # __str__ is to print() the value\n",
        "    def __str__(self):\n",
        "        return(repr(self.value))\n",
        "\n",
        "\n",
        "try:\n",
        "    raise(MyError(3*2))\n",
        "\n",
        "# Value of Exception is stored in error\n",
        "# except MyError as e:                                        (Here I comment the 'Except_block' after sucessfuly run 'Try_block' SyntaxError is given. )\n",
        "#     print('A New Exception occurred: ', e.value)"
      ],
      "metadata": {
        "colab": {
          "base_uri": "https://localhost:8080/",
          "height": 130
        },
        "id": "p8RDnrKJ8-oF",
        "outputId": "6e49be84-149b-4805-b79c-fe3a27605cc4"
      },
      "execution_count": 28,
      "outputs": [
        {
          "output_type": "error",
          "ename": "SyntaxError",
          "evalue": "ignored",
          "traceback": [
            "\u001b[0;36m  File \u001b[0;32m\"<ipython-input-28-973b9abd1765>\"\u001b[0;36m, line \u001b[0;32m31\u001b[0m\n\u001b[0;31m    #     print('A New Exception occurred: ', e.value)\u001b[0m\n\u001b[0m                                                      ^\u001b[0m\n\u001b[0;31mSyntaxError\u001b[0m\u001b[0;31m:\u001b[0m incomplete input\n"
          ]
        }
      ]
    },
    {
      "cell_type": "code",
      "source": [
        "# Q6. Create a custom exception class.Use this class to handle an exception.\n",
        "\n",
        "# A python program to create user-defined exception\n",
        "# class MyError is derived from super class Exception\n",
        "class MyError(Exception):\n",
        "\n",
        "    # Constructor or Initializer\n",
        "    def __init__(self, value):\n",
        "        self.value = value\n",
        "\n",
        "    # __str__ is to print() the value\n",
        "    def __str__(self):\n",
        "        return(repr(self.value))\n",
        "\n",
        "\n",
        "try:\n",
        "    raise(MyError(3*2))\n",
        "\n",
        "# Value of Exception is stored in error\n",
        "except MyError as e:                                        #(Here I comment the 'Except_block' after sucessfuly run 'Try_block' SyntaxError is given. )\n",
        "    print('A New Exception occurred: ', e.value)"
      ],
      "metadata": {
        "colab": {
          "base_uri": "https://localhost:8080/"
        },
        "id": "cncdKJUHAp07",
        "outputId": "f097f00e-ba4c-4cc7-edb8-6ab2925f50fb"
      },
      "execution_count": 29,
      "outputs": [
        {
          "output_type": "stream",
          "name": "stdout",
          "text": [
            "A New Exception occurred:  6\n"
          ]
        }
      ]
    }
  ]
}